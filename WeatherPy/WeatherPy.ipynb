{
 "cells": [
  {
   "cell_type": "code",
   "execution_count": 140,
   "metadata": {},
   "outputs": [],
   "source": [
    " # Dependencies and Setup\n",
    "import matplotlib.pyplot as plt\n",
    "import pandas as pd\n",
    "import numpy as np\n",
    "import requests\n",
    "import time\n",
    "from scipy.stats import linregress\n",
    "\n",
    "# Import API key\n",
    "from config import api_key\n",
    "\n",
    "# Incorporated citipy to determine city based on latitude and longitude\n",
    "from citipy import citipy\n",
    "\n",
    "# Output File (CSV)\n",
    "output_data_file = \"File Output/cities.csv\"\n",
    "\n",
    "# Range of latitudes and longitudes\n",
    "lat_range = (-90, 90)\n",
    "lng_range = (-180, 180)"
   ]
  },
  {
   "cell_type": "code",
   "execution_count": 141,
   "metadata": {},
   "outputs": [
    {
     "name": "stdout",
     "output_type": "stream",
     "text": [
      "mataura is not unique\n",
      "ushuaia is not unique\n"
     ]
    },
    {
     "data": {
      "text/plain": [
       "23"
      ]
     },
     "execution_count": 141,
     "metadata": {},
     "output_type": "execute_result"
    }
   ],
   "source": [
    "# List for holding lat_lngs and cities\n",
    "lat_longs = []\n",
    "cities = []\n",
    "\n",
    "unique_lat_longs = []\n",
    "\n",
    "# Create a set of random lat and lng combinations\n",
    "lats = np.random.uniform(low=-90.000, high=90.000, size=25)\n",
    "longs = np.random.uniform(low=-180.000, high=180.000, size=25)\n",
    "lat_longs = zip(lats, longs)\n",
    "\n",
    "# Identify nearest city for each lat, long combination\n",
    "for lat_long in lat_longs:\n",
    "    city = citipy.nearest_city(lat_long[0], lat_long[1]).city_name\n",
    "    \n",
    "    # If the city is unique, then add it to a our cities list\n",
    "    if city not in cities:\n",
    "        cities.append(city)\n",
    "        unique_lat_longs.append(lat_long)\n",
    "    else:\n",
    "        print(f\"{city} is not unique\")\n",
    "\n",
    "# Print the city count to confirm sufficient count\n",
    "len(cities)"
   ]
  },
  {
   "cell_type": "code",
   "execution_count": 142,
   "metadata": {},
   "outputs": [],
   "source": [
    "unique_lats = []\n",
    "unique_longs = []\n",
    "\n",
    "for i in range(len(unique_lat_longs)):\n",
    "    unique_lats.append(unique_lat_longs[i][0])\n",
    "    unique_longs.append(unique_lat_longs[i][1])"
   ]
  },
  {
   "cell_type": "code",
   "execution_count": 143,
   "metadata": {},
   "outputs": [
    {
     "name": "stdout",
     "output_type": "stream",
     "text": [
      "Processing Record 1 of 23 | blue springs\n",
      "Processing Record 2 of 23 | yellowknife\n",
      "Processing Record 3 of 23 | aswan\n",
      "Processing Record 4 of 23 | los llanos de aridane\n",
      "wulanhaote not found. Skipping...\n",
      "Processing Record 6 of 23 | mataura\n",
      "Processing Record 7 of 23 | auki\n",
      "Processing Record 8 of 23 | hobart\n",
      "Processing Record 9 of 23 | bluff\n",
      "barentsburg not found. Skipping...\n",
      "Processing Record 11 of 23 | constitucion\n",
      "Processing Record 12 of 23 | ribeira grande\n",
      "Processing Record 13 of 23 | albany\n",
      "Processing Record 14 of 23 | jamestown\n",
      "Processing Record 15 of 23 | vaini\n",
      "Processing Record 16 of 23 | ushuaia\n",
      "Processing Record 17 of 23 | margate\n",
      "Processing Record 18 of 23 | punta arenas\n",
      "Processing Record 19 of 23 | senneterre\n",
      "Processing Record 20 of 23 | aleksandriyskaya\n",
      "Processing Record 21 of 23 | hilo\n",
      "Processing Record 22 of 23 | tasiilaq\n",
      "Processing Record 23 of 23 | chitral\n"
     ]
    }
   ],
   "source": [
    "count = 0\n",
    "max_temps = []\n",
    "humidities = []\n",
    "cloudiness = []\n",
    "wind_speeds = []\n",
    "dates = []\n",
    "countries = []\n",
    "\n",
    "with open(output_data_file,\"w\") as weather:\n",
    "    weather.write(\"City,Lat,Lon,Max Temp,Humidity,Cloudiness,Wind Speed,Country,Date\\n\")\n",
    "    \n",
    "    for city in cities:\n",
    "        count = count + 1\n",
    "        try:\n",
    "            base_url = \"http://api.openweathermap.org/data/2.5/weather?\"\n",
    "            url = base_url + \"appid=\" + api_key + \"&q=\" + city\n",
    "            response = requests.get(url).json()\n",
    "\n",
    "            max_temp = float(response[\"main\"][\"temp_max\"])\n",
    "            humidity = float(response[\"main\"][\"humidity\"])\n",
    "            clouds = float(response[\"clouds\"][\"all\"])\n",
    "            wind = float(response[\"wind\"][\"speed\"])\n",
    "            date = int(response[\"dt\"])\n",
    "            country = response[\"sys\"][\"country\"]\n",
    "            \n",
    "            max_temp = 1.8*(max_temp-273.15)+32\n",
    "            \n",
    "            max_temps.append(max_temp)\n",
    "            humidities.append(humidity)\n",
    "            cloudiness.append(clouds)\n",
    "            wind_speeds.append(wind)\n",
    "            dates.append(date)\n",
    "            countries.append(country)\n",
    "\n",
    "            weather.write(f\"{city},{max_temp},{humidity},{clouds},{wind},{country},{date}\\n\")\n",
    "\n",
    "            print(f\"Processing Record {count} of {len(cities)} | {city}\")\n",
    "        except:\n",
    "            max_temps.append(np.NaN)\n",
    "            humidities.append(np.NaN)\n",
    "            cloudiness.append(np.NaN)\n",
    "            wind_speeds.append(np.NaN)\n",
    "            dates.append(np.NaN)\n",
    "            countries.append(np.NaN)\n",
    "\n",
    "            weather.write(f\"NaN,NaN,NaN,NaN,NaN,NaN,NaN\\n\")\n",
    "\n",
    "\n",
    "            print(f\"{city} not found. Skipping...\")\n",
    "        "
   ]
  },
  {
   "cell_type": "code",
   "execution_count": 145,
   "metadata": {},
   "outputs": [
    {
     "data": {
      "text/html": [
       "<div>\n",
       "<style scoped>\n",
       "    .dataframe tbody tr th:only-of-type {\n",
       "        vertical-align: middle;\n",
       "    }\n",
       "\n",
       "    .dataframe tbody tr th {\n",
       "        vertical-align: top;\n",
       "    }\n",
       "\n",
       "    .dataframe thead th {\n",
       "        text-align: right;\n",
       "    }\n",
       "</style>\n",
       "<table border=\"1\" class=\"dataframe\">\n",
       "  <thead>\n",
       "    <tr style=\"text-align: right;\">\n",
       "      <th></th>\n",
       "      <th>City</th>\n",
       "      <th>Lat</th>\n",
       "      <th>Long</th>\n",
       "      <th>Max Temp</th>\n",
       "      <th>Humidity</th>\n",
       "      <th>Cloudiness</th>\n",
       "      <th>Wind Speed</th>\n",
       "      <th>Country</th>\n",
       "      <th>Date</th>\n",
       "    </tr>\n",
       "  </thead>\n",
       "  <tbody>\n",
       "    <tr>\n",
       "      <th>0</th>\n",
       "      <td>blue springs</td>\n",
       "      <td>39.130403</td>\n",
       "      <td>-94.006315</td>\n",
       "      <td>93.200</td>\n",
       "      <td>38.0</td>\n",
       "      <td>1.0</td>\n",
       "      <td>4.10</td>\n",
       "      <td>US</td>\n",
       "      <td>1.598225e+09</td>\n",
       "    </tr>\n",
       "    <tr>\n",
       "      <th>1</th>\n",
       "      <td>yellowknife</td>\n",
       "      <td>80.376060</td>\n",
       "      <td>-110.394271</td>\n",
       "      <td>62.996</td>\n",
       "      <td>48.0</td>\n",
       "      <td>20.0</td>\n",
       "      <td>1.00</td>\n",
       "      <td>CA</td>\n",
       "      <td>1.598225e+09</td>\n",
       "    </tr>\n",
       "    <tr>\n",
       "      <th>2</th>\n",
       "      <td>aswan</td>\n",
       "      <td>23.688272</td>\n",
       "      <td>32.620854</td>\n",
       "      <td>84.182</td>\n",
       "      <td>25.0</td>\n",
       "      <td>0.0</td>\n",
       "      <td>2.31</td>\n",
       "      <td>EG</td>\n",
       "      <td>1.598225e+09</td>\n",
       "    </tr>\n",
       "    <tr>\n",
       "      <th>3</th>\n",
       "      <td>los llanos de aridane</td>\n",
       "      <td>29.908354</td>\n",
       "      <td>-22.074063</td>\n",
       "      <td>73.400</td>\n",
       "      <td>83.0</td>\n",
       "      <td>10.0</td>\n",
       "      <td>7.70</td>\n",
       "      <td>ES</td>\n",
       "      <td>1.598225e+09</td>\n",
       "    </tr>\n",
       "    <tr>\n",
       "      <th>4</th>\n",
       "      <td>wulanhaote</td>\n",
       "      <td>46.309206</td>\n",
       "      <td>119.366050</td>\n",
       "      <td>NaN</td>\n",
       "      <td>NaN</td>\n",
       "      <td>NaN</td>\n",
       "      <td>NaN</td>\n",
       "      <td>NaN</td>\n",
       "      <td>NaN</td>\n",
       "    </tr>\n",
       "  </tbody>\n",
       "</table>\n",
       "</div>"
      ],
      "text/plain": [
       "                    City        Lat        Long  Max Temp  Humidity  \\\n",
       "0           blue springs  39.130403  -94.006315    93.200      38.0   \n",
       "1            yellowknife  80.376060 -110.394271    62.996      48.0   \n",
       "2                  aswan  23.688272   32.620854    84.182      25.0   \n",
       "3  los llanos de aridane  29.908354  -22.074063    73.400      83.0   \n",
       "4             wulanhaote  46.309206  119.366050       NaN       NaN   \n",
       "\n",
       "   Cloudiness  Wind Speed Country          Date  \n",
       "0         1.0        4.10      US  1.598225e+09  \n",
       "1        20.0        1.00      CA  1.598225e+09  \n",
       "2         0.0        2.31      EG  1.598225e+09  \n",
       "3        10.0        7.70      ES  1.598225e+09  \n",
       "4         NaN         NaN     NaN           NaN  "
      ]
     },
     "execution_count": 145,
     "metadata": {},
     "output_type": "execute_result"
    }
   ],
   "source": [
    "weather_dict = {}\n",
    "\n",
    "weather_dict = {\"City\": cities, \"Lat\": unique_lats, \"Long\": unique_longs, \"Max Temp\": max_temps,\n",
    "               \"Humidity\": humidities, \"Cloudiness\":cloudiness, \"Wind Speed\": wind_speeds, \n",
    "                \"Country\": countries, \"Date\":dates}\n",
    "\n",
    "weather_df = pd.DataFrame(weather_dict)\n",
    "weather_df.head()"
   ]
  },
  {
   "cell_type": "code",
   "execution_count": 146,
   "metadata": {},
   "outputs": [
    {
     "data": {
      "text/html": [
       "<div>\n",
       "<style scoped>\n",
       "    .dataframe tbody tr th:only-of-type {\n",
       "        vertical-align: middle;\n",
       "    }\n",
       "\n",
       "    .dataframe tbody tr th {\n",
       "        vertical-align: top;\n",
       "    }\n",
       "\n",
       "    .dataframe thead th {\n",
       "        text-align: right;\n",
       "    }\n",
       "</style>\n",
       "<table border=\"1\" class=\"dataframe\">\n",
       "  <thead>\n",
       "    <tr style=\"text-align: right;\">\n",
       "      <th></th>\n",
       "      <th>City</th>\n",
       "      <th>Lat</th>\n",
       "      <th>Long</th>\n",
       "      <th>Max Temp</th>\n",
       "      <th>Humidity</th>\n",
       "      <th>Cloudiness</th>\n",
       "      <th>Wind Speed</th>\n",
       "      <th>Country</th>\n",
       "      <th>Date</th>\n",
       "    </tr>\n",
       "  </thead>\n",
       "  <tbody>\n",
       "    <tr>\n",
       "      <th>0</th>\n",
       "      <td>blue springs</td>\n",
       "      <td>39.130403</td>\n",
       "      <td>-94.006315</td>\n",
       "      <td>93.200</td>\n",
       "      <td>38.0</td>\n",
       "      <td>1.0</td>\n",
       "      <td>4.10</td>\n",
       "      <td>US</td>\n",
       "      <td>1.598225e+09</td>\n",
       "    </tr>\n",
       "    <tr>\n",
       "      <th>1</th>\n",
       "      <td>yellowknife</td>\n",
       "      <td>80.376060</td>\n",
       "      <td>-110.394271</td>\n",
       "      <td>62.996</td>\n",
       "      <td>48.0</td>\n",
       "      <td>20.0</td>\n",
       "      <td>1.00</td>\n",
       "      <td>CA</td>\n",
       "      <td>1.598225e+09</td>\n",
       "    </tr>\n",
       "    <tr>\n",
       "      <th>2</th>\n",
       "      <td>aswan</td>\n",
       "      <td>23.688272</td>\n",
       "      <td>32.620854</td>\n",
       "      <td>84.182</td>\n",
       "      <td>25.0</td>\n",
       "      <td>0.0</td>\n",
       "      <td>2.31</td>\n",
       "      <td>EG</td>\n",
       "      <td>1.598225e+09</td>\n",
       "    </tr>\n",
       "    <tr>\n",
       "      <th>3</th>\n",
       "      <td>los llanos de aridane</td>\n",
       "      <td>29.908354</td>\n",
       "      <td>-22.074063</td>\n",
       "      <td>73.400</td>\n",
       "      <td>83.0</td>\n",
       "      <td>10.0</td>\n",
       "      <td>7.70</td>\n",
       "      <td>ES</td>\n",
       "      <td>1.598225e+09</td>\n",
       "    </tr>\n",
       "    <tr>\n",
       "      <th>5</th>\n",
       "      <td>mataura</td>\n",
       "      <td>-37.978649</td>\n",
       "      <td>-147.260840</td>\n",
       "      <td>55.004</td>\n",
       "      <td>83.0</td>\n",
       "      <td>13.0</td>\n",
       "      <td>3.13</td>\n",
       "      <td>NZ</td>\n",
       "      <td>1.598225e+09</td>\n",
       "    </tr>\n",
       "  </tbody>\n",
       "</table>\n",
       "</div>"
      ],
      "text/plain": [
       "                    City        Lat        Long  Max Temp  Humidity  \\\n",
       "0           blue springs  39.130403  -94.006315    93.200      38.0   \n",
       "1            yellowknife  80.376060 -110.394271    62.996      48.0   \n",
       "2                  aswan  23.688272   32.620854    84.182      25.0   \n",
       "3  los llanos de aridane  29.908354  -22.074063    73.400      83.0   \n",
       "5                mataura -37.978649 -147.260840    55.004      83.0   \n",
       "\n",
       "   Cloudiness  Wind Speed Country          Date  \n",
       "0         1.0        4.10      US  1.598225e+09  \n",
       "1        20.0        1.00      CA  1.598225e+09  \n",
       "2         0.0        2.31      EG  1.598225e+09  \n",
       "3        10.0        7.70      ES  1.598225e+09  \n",
       "5        13.0        3.13      NZ  1.598225e+09  "
      ]
     },
     "execution_count": 146,
     "metadata": {},
     "output_type": "execute_result"
    }
   ],
   "source": [
    "weather_dropna_df = weather_df.dropna(how=\"any\")\n",
    "weather_dropna_df.head()"
   ]
  },
  {
   "cell_type": "code",
   "execution_count": 147,
   "metadata": {},
   "outputs": [
    {
     "data": {
      "text/plain": [
       "Int64Index([], dtype='int64')"
      ]
     },
     "execution_count": 147,
     "metadata": {},
     "output_type": "execute_result"
    }
   ],
   "source": [
    "#  Get the indices of cities that have humidity over 100%.\n",
    "\n",
    "hum_over_100 = weather_dropna_df.loc[weather_dropna_df[\"Humidity\"]>100].index\n",
    "hum_over_100"
   ]
  },
  {
   "cell_type": "code",
   "execution_count": 148,
   "metadata": {},
   "outputs": [
    {
     "data": {
      "text/html": [
       "<div>\n",
       "<style scoped>\n",
       "    .dataframe tbody tr th:only-of-type {\n",
       "        vertical-align: middle;\n",
       "    }\n",
       "\n",
       "    .dataframe tbody tr th {\n",
       "        vertical-align: top;\n",
       "    }\n",
       "\n",
       "    .dataframe thead th {\n",
       "        text-align: right;\n",
       "    }\n",
       "</style>\n",
       "<table border=\"1\" class=\"dataframe\">\n",
       "  <thead>\n",
       "    <tr style=\"text-align: right;\">\n",
       "      <th></th>\n",
       "      <th>City</th>\n",
       "      <th>Lat</th>\n",
       "      <th>Long</th>\n",
       "      <th>Max Temp</th>\n",
       "      <th>Humidity</th>\n",
       "      <th>Cloudiness</th>\n",
       "      <th>Wind Speed</th>\n",
       "      <th>Country</th>\n",
       "      <th>Date</th>\n",
       "    </tr>\n",
       "  </thead>\n",
       "  <tbody>\n",
       "    <tr>\n",
       "      <th>0</th>\n",
       "      <td>blue springs</td>\n",
       "      <td>39.130403</td>\n",
       "      <td>-94.006315</td>\n",
       "      <td>93.200</td>\n",
       "      <td>38.0</td>\n",
       "      <td>1.0</td>\n",
       "      <td>4.10</td>\n",
       "      <td>US</td>\n",
       "      <td>1.598225e+09</td>\n",
       "    </tr>\n",
       "    <tr>\n",
       "      <th>1</th>\n",
       "      <td>yellowknife</td>\n",
       "      <td>80.376060</td>\n",
       "      <td>-110.394271</td>\n",
       "      <td>62.996</td>\n",
       "      <td>48.0</td>\n",
       "      <td>20.0</td>\n",
       "      <td>1.00</td>\n",
       "      <td>CA</td>\n",
       "      <td>1.598225e+09</td>\n",
       "    </tr>\n",
       "    <tr>\n",
       "      <th>2</th>\n",
       "      <td>aswan</td>\n",
       "      <td>23.688272</td>\n",
       "      <td>32.620854</td>\n",
       "      <td>84.182</td>\n",
       "      <td>25.0</td>\n",
       "      <td>0.0</td>\n",
       "      <td>2.31</td>\n",
       "      <td>EG</td>\n",
       "      <td>1.598225e+09</td>\n",
       "    </tr>\n",
       "    <tr>\n",
       "      <th>3</th>\n",
       "      <td>los llanos de aridane</td>\n",
       "      <td>29.908354</td>\n",
       "      <td>-22.074063</td>\n",
       "      <td>73.400</td>\n",
       "      <td>83.0</td>\n",
       "      <td>10.0</td>\n",
       "      <td>7.70</td>\n",
       "      <td>ES</td>\n",
       "      <td>1.598225e+09</td>\n",
       "    </tr>\n",
       "    <tr>\n",
       "      <th>5</th>\n",
       "      <td>mataura</td>\n",
       "      <td>-37.978649</td>\n",
       "      <td>-147.260840</td>\n",
       "      <td>55.004</td>\n",
       "      <td>83.0</td>\n",
       "      <td>13.0</td>\n",
       "      <td>3.13</td>\n",
       "      <td>NZ</td>\n",
       "      <td>1.598225e+09</td>\n",
       "    </tr>\n",
       "  </tbody>\n",
       "</table>\n",
       "</div>"
      ],
      "text/plain": [
       "                    City        Lat        Long  Max Temp  Humidity  \\\n",
       "0           blue springs  39.130403  -94.006315    93.200      38.0   \n",
       "1            yellowknife  80.376060 -110.394271    62.996      48.0   \n",
       "2                  aswan  23.688272   32.620854    84.182      25.0   \n",
       "3  los llanos de aridane  29.908354  -22.074063    73.400      83.0   \n",
       "5                mataura -37.978649 -147.260840    55.004      83.0   \n",
       "\n",
       "   Cloudiness  Wind Speed Country          Date  \n",
       "0         1.0        4.10      US  1.598225e+09  \n",
       "1        20.0        1.00      CA  1.598225e+09  \n",
       "2         0.0        2.31      EG  1.598225e+09  \n",
       "3        10.0        7.70      ES  1.598225e+09  \n",
       "5        13.0        3.13      NZ  1.598225e+09  "
      ]
     },
     "execution_count": 148,
     "metadata": {},
     "output_type": "execute_result"
    }
   ],
   "source": [
    "cleaned_weather_df = weather_dropna_df.drop(axis=0,index=hum_over_100,inplace=False)\n",
    "cleaned_weather_df.head()"
   ]
  },
  {
   "cell_type": "code",
   "execution_count": 149,
   "metadata": {},
   "outputs": [
    {
     "data": {
      "image/png": "[encoded data removed]",
      "text/plain": [
       "<Figure size 432x288 with 1 Axes>"
      ]
     },
     "metadata": {
      "needs_background": "light"
     },
     "output_type": "display_data"
    }
   ],
   "source": [
    "x_values = cleaned_weather_df[\"Lat\"]\n",
    "y_values = cleaned_weather_df[\"Max Temp\"]\n",
    "date = cleaned_weather_df.iloc[0,8]\n",
    "\n",
    "temp_vs_lat = plt.scatter(x_values,y_values)\n",
    "plt.title(f\"Max Temperature vs. City Latitude ({date})\")\n",
    "plt.xlabel(\"Latitude\")\n",
    "plt.ylabel(\"Max Temperature (F)\")\n",
    "\n",
    "plt.savefig(\"Images/temp_vs_lat.png\")"
   ]
  },
  {
   "cell_type": "code",
   "execution_count": 150,
   "metadata": {},
   "outputs": [
    {
     "data": {
      "image/png": "[encoded data removed]",
      "text/plain": [
       "<Figure size 432x288 with 1 Axes>"
      ]
     },
     "metadata": {
      "needs_background": "light"
     },
     "output_type": "display_data"
    }
   ],
   "source": [
    "x_values = cleaned_weather_df[\"Lat\"]\n",
    "y_values = cleaned_weather_df[\"Humidity\"]\n",
    "\n",
    "hum_vs_lat = plt.scatter(x_values,y_values)\n",
    "plt.title(f\"Humidity vs. City Latitude ({date})\")\n",
    "plt.xlabel(\"Latitude\")\n",
    "plt.ylabel(\"Humidity (%)\")\n",
    "\n",
    "plt.savefig(\"Images/hum_vs_lat.png\")"
   ]
  },
  {
   "cell_type": "code",
   "execution_count": 151,
   "metadata": {},
   "outputs": [
    {
     "data": {
      "image/png": "[encoded data removed]",
      "text/plain": [
       "<Figure size 432x288 with 1 Axes>"
      ]
     },
     "metadata": {
      "needs_background": "light"
     },
     "output_type": "display_data"
    }
   ],
   "source": [
    "x_values = cleaned_weather_df[\"Lat\"]\n",
    "y_values = cleaned_weather_df[\"Cloudiness\"]\n",
    "\n",
    "cloud_vs_lat = plt.scatter(x_values,y_values)\n",
    "plt.title(f\"Cloudiness vs. City Latitude ({date})\")\n",
    "plt.xlabel(\"Latitude\")\n",
    "plt.ylabel(\"Cloudiness (%)\")\n",
    "\n",
    "plt.savefig(\"Images/cloud_vs_lat.png\")"
   ]
  },
  {
   "cell_type": "code",
   "execution_count": 152,
   "metadata": {},
   "outputs": [
    {
     "data": {
      "image/png": "[encoded data removed]",
      "text/plain": [
       "<Figure size 432x288 with 1 Axes>"
      ]
     },
     "metadata": {
      "needs_background": "light"
     },
     "output_type": "display_data"
    }
   ],
   "source": [
    "x_values = cleaned_weather_df[\"Lat\"]\n",
    "y_values = cleaned_weather_df[\"Wind Speed\"]\n",
    "\n",
    "wind_vs_lat = plt.scatter(x_values,y_values)\n",
    "plt.title(f\"Wind Speed vs. City Latitude ({date})\")\n",
    "plt.xlabel(\"Latitude\")\n",
    "plt.ylabel(\"Wind Speed (mph)\")\n",
    "\n",
    "plt.savefig(\"Images/wind_vs_lat.png\")"
   ]
  },
  {
   "cell_type": "code",
   "execution_count": 153,
   "metadata": {},
   "outputs": [],
   "source": [
    "northern_hemi_df = cleaned_weather_df.loc[cleaned_weather_df[\"Lat\"]>0]\n",
    "southern_hemi_df = cleaned_weather_df.loc[cleaned_weather_df[\"Lat\"]<0]"
   ]
  },
  {
   "cell_type": "code",
   "execution_count": 154,
   "metadata": {},
   "outputs": [
    {
     "name": "stdout",
     "output_type": "stream",
     "text": [
      "r value: 0.5419564182003734\n"
     ]
    },
    {
     "data": {
      "image/png": "[encoded data removed]",
      "text/plain": [
       "<Figure size 432x288 with 1 Axes>"
      ]
     },
     "metadata": {
      "needs_background": "light"
     },
     "output_type": "display_data"
    }
   ],
   "source": [
    "x_values = northern_hemi_df[\"Lat\"]\n",
    "y_values = northern_hemi_df[\"Max Temp\"]\n",
    "\n",
    "temp_vs_lat = plt.scatter(x_values,y_values)\n",
    "plt.xlabel(\"Latitude\")\n",
    "plt.ylabel(\"Max Temperature (F)\")\n",
    "\n",
    "(slope, intercept, r, p, sem) = linregress(x_values, y_values)\n",
    "fit = slope * x_values + intercept\n",
    "line_eq = f\"y={round(slope,2)}x+{round(intercept,2)}\"\n",
    "plt.plot(x_values,fit,\"-r\")\n",
    "plt.annotate(line_eq, (30,40),color=\"red\")\n",
    "print(f\"r value: {r**2}\")\n",
    "\n",
    "plt.savefig(\"Images/n_temp_vs_lat.png\")"
   ]
  },
  {
   "cell_type": "code",
   "execution_count": 155,
   "metadata": {},
   "outputs": [
    {
     "name": "stdout",
     "output_type": "stream",
     "text": [
      "r value: 0.0716235708626727\n"
     ]
    },
    {
     "data": {
      "image/png": "[encoded data removed]",
      "text/plain": [
       "<Figure size 432x288 with 1 Axes>"
      ]
     },
     "metadata": {
      "needs_background": "light"
     },
     "output_type": "display_data"
    }
   ],
   "source": [
    "x_values = southern_hemi_df[\"Lat\"]\n",
    "y_values = southern_hemi_df[\"Max Temp\"]\n",
    "\n",
    "temp_vs_lat = plt.scatter(x_values,y_values)\n",
    "plt.xlabel(\"Latitude\")\n",
    "plt.ylabel(\"Max Temperature (F)\")\n",
    "\n",
    "(slope, intercept, r, p, sem) = linregress(x_values, y_values)\n",
    "fit = slope * x_values + intercept\n",
    "line_eq = f\"y={round(slope,2)}x+{round(intercept,2)}\"\n",
    "plt.plot(x_values,fit,\"-r\")\n",
    "plt.annotate(line_eq, (-60,40),color=\"red\")\n",
    "print(f\"r value: {r**2}\")\n",
    "\n",
    "plt.savefig(\"Images/s_temp_vs_lat.png\")"
   ]
  },
  {
   "cell_type": "code",
   "execution_count": 156,
   "metadata": {},
   "outputs": [
    {
     "name": "stdout",
     "output_type": "stream",
     "text": [
      "r value: 0.04397150362339144\n"
     ]
    },
    {
     "data": {
      "image/png": "[encoded data removed]",
      "text/plain": [
       "<Figure size 432x288 with 1 Axes>"
      ]
     },
     "metadata": {
      "needs_background": "light"
     },
     "output_type": "display_data"
    }
   ],
   "source": [
    "x_values = northern_hemi_df[\"Lat\"]\n",
    "y_values = northern_hemi_df[\"Humidity\"]\n",
    "\n",
    "hum_vs_lat = plt.scatter(x_values,y_values)\n",
    "plt.xlabel(\"Latitude\")\n",
    "plt.ylabel(\"Humidity (%)\")\n",
    "\n",
    "(slope, intercept, r, p, sem) = linregress(x_values, y_values)\n",
    "fit = slope * x_values + intercept\n",
    "line_eq = f\"y={round(slope,2)}x+{round(intercept,2)}\"\n",
    "plt.plot(x_values,fit,\"-r\")\n",
    "plt.annotate(line_eq, (30,40),color=\"red\")\n",
    "print(f\"r value: {r**2}\")\n",
    "\n",
    "plt.savefig(\"Images/n_hum_vs_lat.png\")"
   ]
  },
  {
   "cell_type": "code",
   "execution_count": 157,
   "metadata": {},
   "outputs": [
    {
     "name": "stdout",
     "output_type": "stream",
     "text": [
      "r value: 0.3390046248679119\n"
     ]
    },
    {
     "data": {
      "image/png": "[encoded data removed]",
      "text/plain": [
       "<Figure size 432x288 with 1 Axes>"
      ]
     },
     "metadata": {
      "needs_background": "light"
     },
     "output_type": "display_data"
    }
   ],
   "source": [
    "x_values = southern_hemi_df[\"Lat\"]\n",
    "y_values = southern_hemi_df[\"Humidity\"]\n",
    "\n",
    "hum_vs_lat = plt.scatter(x_values,y_values)\n",
    "plt.xlabel(\"Latitude\")\n",
    "plt.ylabel(\"Humidity (%)\")\n",
    "\n",
    "(slope, intercept, r, p, sem) = linregress(x_values, y_values)\n",
    "fit = slope * x_values + intercept\n",
    "line_eq = f\"y={round(slope,2)}x+{round(intercept,2)}\"\n",
    "plt.plot(x_values,fit,\"-r\")\n",
    "plt.annotate(line_eq, (-60,75),color=\"red\")\n",
    "print(f\"r value: {r**2}\")\n",
    "\n",
    "plt.savefig(\"Images/s_hum_vs_lat.png\")"
   ]
  },
  {
   "cell_type": "code",
   "execution_count": 158,
   "metadata": {},
   "outputs": [
    {
     "name": "stdout",
     "output_type": "stream",
     "text": [
      "r value: 0.08641536518436686\n"
     ]
    },
    {
     "data": {
      "image/png": "[encoded data removed]",
      "text/plain": [
       "<Figure size 432x288 with 1 Axes>"
      ]
     },
     "metadata": {
      "needs_background": "light"
     },
     "output_type": "display_data"
    }
   ],
   "source": [
    "x_values = northern_hemi_df[\"Lat\"]\n",
    "y_values = northern_hemi_df[\"Cloudiness\"]\n",
    "\n",
    "cloud_vs_lat = plt.scatter(x_values,y_values)\n",
    "plt.xlabel(\"Latitude\")\n",
    "plt.ylabel(\"Cloudiness (%)\")\n",
    "\n",
    "(slope, intercept, r, p, sem) = linregress(x_values, y_values)\n",
    "fit = slope * x_values + intercept\n",
    "line_eq = f\"y={round(slope,2)}x+{round(intercept,2)}\"\n",
    "plt.plot(x_values,fit,\"-r\")\n",
    "plt.annotate(line_eq, (30,10),color=\"red\")\n",
    "print(f\"r value: {r**2}\")\n",
    "\n",
    "plt.savefig(\"Images/n_cloud_vs_lat.png\")"
   ]
  },
  {
   "cell_type": "code",
   "execution_count": 159,
   "metadata": {},
   "outputs": [
    {
     "name": "stdout",
     "output_type": "stream",
     "text": [
      "r value: 0.055796023288766226\n"
     ]
    },
    {
     "data": {
      "image/png": "[encoded data removed]",
      "text/plain": [
       "<Figure size 432x288 with 1 Axes>"
      ]
     },
     "metadata": {
      "needs_background": "light"
     },
     "output_type": "display_data"
    }
   ],
   "source": [
    "x_values = southern_hemi_df[\"Lat\"]\n",
    "y_values = southern_hemi_df[\"Cloudiness\"]\n",
    "\n",
    "cloud_vs_lat = plt.scatter(x_values,y_values)\n",
    "plt.xlabel(\"Latitude\")\n",
    "plt.ylabel(\"Cloudiness (%)\")\n",
    "\n",
    "(slope, intercept, r, p, sem) = linregress(x_values, y_values)\n",
    "fit = slope * x_values + intercept\n",
    "line_eq = f\"y={round(slope,2)}x+{round(intercept,2)}\"\n",
    "plt.plot(x_values,fit,\"-r\")\n",
    "plt.annotate(line_eq, (-60,0),color=\"red\")\n",
    "print(f\"r value: {r**2}\")\n",
    "\n",
    "plt.savefig(\"Images/s_cloud_vs_lat.png\")"
   ]
  },
  {
   "cell_type": "code",
   "execution_count": 160,
   "metadata": {},
   "outputs": [
    {
     "name": "stdout",
     "output_type": "stream",
     "text": [
      "r value: 0.17869354703211385\n"
     ]
    },
    {
     "data": {
      "image/png": "[encoded data removed]",
      "text/plain": [
       "<Figure size 432x288 with 1 Axes>"
      ]
     },
     "metadata": {
      "needs_background": "light"
     },
     "output_type": "display_data"
    }
   ],
   "source": [
    "x_values = northern_hemi_df[\"Lat\"]\n",
    "y_values = northern_hemi_df[\"Wind Speed\"]\n",
    "\n",
    "wind_vs_lat = plt.scatter(x_values,y_values)\n",
    "plt.xlabel(\"Latitude\")\n",
    "plt.ylabel(\"Wind Speed (mph)\")\n",
    "\n",
    "(slope, intercept, r, p, sem) = linregress(x_values, y_values)\n",
    "fit = slope * x_values + intercept\n",
    "line_eq = f\"y={round(slope,2)}x+{round(intercept,2)}\"\n",
    "plt.plot(x_values,fit,\"-r\")\n",
    "plt.annotate(line_eq, (30,2),color=\"red\")\n",
    "print(f\"r value: {r**2}\")\n",
    "\n",
    "plt.savefig(\"Images/n_wind_vs_lat.png\")"
   ]
  },
  {
   "cell_type": "code",
   "execution_count": 161,
   "metadata": {},
   "outputs": [
    {
     "name": "stdout",
     "output_type": "stream",
     "text": [
      "r value: 0.08178815530185751\n"
     ]
    },
    {
     "data": {
      "image/png": "[encoded data removed]",
      "text/plain": [
       "<Figure size 432x288 with 1 Axes>"
      ]
     },
     "metadata": {
      "needs_background": "light"
     },
     "output_type": "display_data"
    }
   ],
   "source": [
    "x_values = southern_hemi_df[\"Lat\"]\n",
    "y_values = southern_hemi_df[\"Wind Speed\"]\n",
    "\n",
    "wind_vs_lat = plt.scatter(x_values,y_values)\n",
    "plt.xlabel(\"Latitude\")\n",
    "plt.ylabel(\"Wind Speed (mph)\")\n",
    "\n",
    "(slope, intercept, r, p, sem) = linregress(x_values, y_values)\n",
    "fit = slope * x_values + intercept\n",
    "line_eq = f\"y={round(slope,2)}x+{round(intercept,2)}\"\n",
    "plt.plot(x_values,fit,\"-r\")\n",
    "plt.annotate(line_eq, (-60,2),color=\"red\")\n",
    "print(f\"r value: {r**2}\")\n",
    "\n",
    "plt.savefig(\"Images/s_wind_vs_lat.png\")"
   ]
  }
 ],
 "metadata": {
  "kernelspec": {
   "display_name": "Python 3",
   "language": "python",
   "name": "python3"
  },
  "language_info": {
   "codemirror_mode": {
    "name": "ipython",
    "version": 3
   },
   "file_extension": ".py",
   "mimetype": "text/x-python",
   "name": "python",
   "nbconvert_exporter": "python",
   "pygments_lexer": "ipython3",
   "version": "3.7.6"
  }
 },
 "nbformat": 4,
 "nbformat_minor": 4
}
