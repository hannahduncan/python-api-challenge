{
 "cells": [
  {
   "cell_type": "code",
   "execution_count": 12,
   "metadata": {},
   "outputs": [],
   "source": [
    " # Dependencies and Setup\n",
    "import matplotlib.pyplot as plt\n",
    "import pandas as pd\n",
    "import numpy as np\n",
    "import requests\n",
    "import time\n",
    "from scipy.stats import linregress\n",
    "\n",
    "# Import API key\n",
    "from config import api_key\n",
    "\n",
    "# Incorporated citipy to determine city based on latitude and longitude\n",
    "from citipy import citipy\n",
    "\n",
    "# Output File (CSV)\n",
    "output_data_file = \"File Output/cities.csv\"\n",
    "\n",
    "# Range of latitudes and longitudes\n",
    "lat_range = (-90, 90)\n",
    "lng_range = (-180, 180)"
   ]
  },
  {
   "cell_type": "code",
   "execution_count": 15,
   "metadata": {},
   "outputs": [
    {
     "name": "stdout",
     "output_type": "stream",
     "text": [
      "rikitea is not unique\n"
     ]
    },
    {
     "data": {
      "text/plain": [
       "24"
      ]
     },
     "execution_count": 15,
     "metadata": {},
     "output_type": "execute_result"
    }
   ],
   "source": [
    "# List for holding lat_lngs and cities\n",
    "lat_longs = []\n",
    "cities = []\n",
    "\n",
    "unique_lat_longs = []\n",
    "\n",
    "# Create a set of random lat and lng combinations\n",
    "lats = np.random.uniform(low=-90.000, high=90.000, size=25)\n",
    "longs = np.random.uniform(low=-180.000, high=180.000, size=25)\n",
    "lat_longs = zip(lats, longs)\n",
    "\n",
    "# Identify nearest city for each lat, long combination\n",
    "for lat_long in lat_longs:\n",
    "    city = citipy.nearest_city(lat_long[0], lat_long[1]).city_name\n",
    "    \n",
    "    # If the city is unique, then add it to a our cities list\n",
    "    if city not in cities:\n",
    "        cities.append(city)\n",
    "        unique_lat_longs.append(lat_long)\n",
    "    else:\n",
    "        print(f\"{city} is not unique\")\n",
    "\n",
    "# Print the city count to confirm sufficient count\n",
    "len(cities)"
   ]
  },
  {
   "cell_type": "code",
   "execution_count": 16,
   "metadata": {},
   "outputs": [],
   "source": [
    "unique_lats = []\n",
    "unique_longs = []\n",
    "\n",
    "for i in range(len(unique_lat_longs)):\n",
    "    unique_lats.append(unique_lat_longs[i][0])\n",
    "    unique_longs.append(unique_lat_longs[i][1])"
   ]
  },
  {
   "cell_type": "code",
   "execution_count": 21,
   "metadata": {},
   "outputs": [
    {
     "name": "stdout",
     "output_type": "stream",
     "text": [
      "Processing Record 1 of 24 | lubumbashi\n",
      "Processing Record 2 of 24 | zhigansk\n",
      "toliary not found. Skipping...\n",
      "Processing Record 4 of 24 | busselton\n",
      "Processing Record 5 of 24 | provideniya\n",
      "Processing Record 6 of 24 | margate\n",
      "Processing Record 7 of 24 | dikson\n",
      "Processing Record 8 of 24 | barrow\n",
      "Processing Record 9 of 24 | santa maria\n",
      "Processing Record 10 of 24 | port alfred\n",
      "illoqqortoormiut not found. Skipping...\n",
      "Processing Record 12 of 24 | manaure\n",
      "Processing Record 13 of 24 | rikitea\n",
      "Processing Record 14 of 24 | ornskoldsvik\n",
      "Processing Record 15 of 24 | esperance\n",
      "Processing Record 16 of 24 | khalkhal\n",
      "Processing Record 17 of 24 | charlestown\n",
      "Processing Record 18 of 24 | mariental\n",
      "Processing Record 19 of 24 | saint-augustin\n",
      "Processing Record 20 of 24 | ribeira grande\n",
      "Processing Record 21 of 24 | atuona\n",
      "Processing Record 22 of 24 | mackay\n",
      "Processing Record 23 of 24 | adrar\n",
      "Processing Record 24 of 24 | coos bay\n"
     ]
    }
   ],
   "source": [
    "count = 0\n",
    "max_temps = []\n",
    "humidities = []\n",
    "cloudiness = []\n",
    "wind_speeds = []\n",
    "dates = []\n",
    "countries = []\n",
    "\n",
    "with open(output_data_file,\"w\") as weather:\n",
    "    weather.write(\"City,Lat,Lon,Max Temp,Humidity,Cloudiness,Wind Speed,Country,Date\\n\")\n",
    "    \n",
    "    for city in cities:\n",
    "        count = count + 1\n",
    "        try:\n",
    "            base_url = \"http://api.openweathermap.org/data/2.5/weather?\"\n",
    "            url = base_url + \"appid=\" + api_key + \"&q=\" + city\n",
    "            response = requests.get(url).json()\n",
    "\n",
    "            lat = response[\"coord\"][\"lat\"]\n",
    "            long = response[\"coord\"][\"lon\"]\n",
    "            max_temp = float(response[\"main\"][\"temp_max\"])\n",
    "            humidity = float(response[\"main\"][\"humidity\"])\n",
    "            clouds = float(response[\"clouds\"][\"all\"])\n",
    "            wind = float(response[\"wind\"][\"speed\"])\n",
    "            date = int(response[\"dt\"])\n",
    "            country = response[\"sys\"][\"country\"]\n",
    "            \n",
    "            max_temp = 1.8*(max_temp-273.15)+32\n",
    "            \n",
    "            max_temps.append(max_temp)\n",
    "            humidities.append(humidity)\n",
    "            cloudiness.append(clouds)\n",
    "            wind_speeds.append(wind)\n",
    "            dates.append(date)\n",
    "            countries.append(country)\n",
    "\n",
    "            weather.write(f\"{city},{lat},{long},{max_temp},{humidity},{clouds},{wind},{country},{date}\\n\")\n",
    "\n",
    "            print(f\"Processing Record {count} of {len(cities)} | {city}\")\n",
    "        except:\n",
    "            max_temps.append(np.NaN)\n",
    "            humidities.append(np.NaN)\n",
    "            cloudiness.append(np.NaN)\n",
    "            wind_speeds.append(np.NaN)\n",
    "            dates.append(np.NaN)\n",
    "            countries.append(np.NaN)\n",
    "\n",
    "            weather.write(f\"{city},{lat},{long},NaN,NaN,NaN,NaN,NaN,NaN\\n\")\n",
    "\n",
    "\n",
    "            print(f\"{city} not found. Skipping...\")\n",
    "        "
   ]
  },
  {
   "cell_type": "code",
   "execution_count": 22,
   "metadata": {},
   "outputs": [
    {
     "data": {
      "text/html": [
       "<div>\n",
       "<style scoped>\n",
       "    .dataframe tbody tr th:only-of-type {\n",
       "        vertical-align: middle;\n",
       "    }\n",
       "\n",
       "    .dataframe tbody tr th {\n",
       "        vertical-align: top;\n",
       "    }\n",
       "\n",
       "    .dataframe thead th {\n",
       "        text-align: right;\n",
       "    }\n",
       "</style>\n",
       "<table border=\"1\" class=\"dataframe\">\n",
       "  <thead>\n",
       "    <tr style=\"text-align: right;\">\n",
       "      <th></th>\n",
       "      <th>City</th>\n",
       "      <th>Lat</th>\n",
       "      <th>Long</th>\n",
       "      <th>Max Temp</th>\n",
       "      <th>Humidity</th>\n",
       "      <th>Cloudiness</th>\n",
       "      <th>Wind Speed</th>\n",
       "      <th>Country</th>\n",
       "      <th>Date</th>\n",
       "    </tr>\n",
       "  </thead>\n",
       "  <tbody>\n",
       "    <tr>\n",
       "      <th>0</th>\n",
       "      <td>lubumbashi</td>\n",
       "      <td>-11.306315</td>\n",
       "      <td>27.425436</td>\n",
       "      <td>83.534</td>\n",
       "      <td>22.0</td>\n",
       "      <td>71.0</td>\n",
       "      <td>1.18</td>\n",
       "      <td>CD</td>\n",
       "      <td>1.598280e+09</td>\n",
       "    </tr>\n",
       "    <tr>\n",
       "      <th>1</th>\n",
       "      <td>zhigansk</td>\n",
       "      <td>70.047673</td>\n",
       "      <td>121.530665</td>\n",
       "      <td>41.108</td>\n",
       "      <td>70.0</td>\n",
       "      <td>9.0</td>\n",
       "      <td>1.93</td>\n",
       "      <td>RU</td>\n",
       "      <td>1.598280e+09</td>\n",
       "    </tr>\n",
       "    <tr>\n",
       "      <th>2</th>\n",
       "      <td>toliary</td>\n",
       "      <td>-22.786993</td>\n",
       "      <td>43.196247</td>\n",
       "      <td>NaN</td>\n",
       "      <td>NaN</td>\n",
       "      <td>NaN</td>\n",
       "      <td>NaN</td>\n",
       "      <td>NaN</td>\n",
       "      <td>NaN</td>\n",
       "    </tr>\n",
       "    <tr>\n",
       "      <th>3</th>\n",
       "      <td>busselton</td>\n",
       "      <td>-59.771518</td>\n",
       "      <td>86.563214</td>\n",
       "      <td>51.998</td>\n",
       "      <td>69.0</td>\n",
       "      <td>2.0</td>\n",
       "      <td>3.40</td>\n",
       "      <td>AU</td>\n",
       "      <td>1.598280e+09</td>\n",
       "    </tr>\n",
       "    <tr>\n",
       "      <th>4</th>\n",
       "      <td>provideniya</td>\n",
       "      <td>54.755667</td>\n",
       "      <td>-179.268387</td>\n",
       "      <td>48.074</td>\n",
       "      <td>94.0</td>\n",
       "      <td>100.0</td>\n",
       "      <td>1.37</td>\n",
       "      <td>RU</td>\n",
       "      <td>1.598280e+09</td>\n",
       "    </tr>\n",
       "  </tbody>\n",
       "</table>\n",
       "</div>"
      ],
      "text/plain": [
       "          City        Lat        Long  Max Temp  Humidity  Cloudiness  \\\n",
       "0   lubumbashi -11.306315   27.425436    83.534      22.0        71.0   \n",
       "1     zhigansk  70.047673  121.530665    41.108      70.0         9.0   \n",
       "2      toliary -22.786993   43.196247       NaN       NaN         NaN   \n",
       "3    busselton -59.771518   86.563214    51.998      69.0         2.0   \n",
       "4  provideniya  54.755667 -179.268387    48.074      94.0       100.0   \n",
       "\n",
       "   Wind Speed Country          Date  \n",
       "0        1.18      CD  1.598280e+09  \n",
       "1        1.93      RU  1.598280e+09  \n",
       "2         NaN     NaN           NaN  \n",
       "3        3.40      AU  1.598280e+09  \n",
       "4        1.37      RU  1.598280e+09  "
      ]
     },
     "execution_count": 22,
     "metadata": {},
     "output_type": "execute_result"
    }
   ],
   "source": [
    "weather_dict = {}\n",
    "\n",
    "weather_dict = {\"City\": cities, \"Lat\": unique_lats, \"Long\": unique_longs, \"Max Temp\": max_temps,\n",
    "               \"Humidity\": humidities, \"Cloudiness\":cloudiness, \"Wind Speed\": wind_speeds, \n",
    "                \"Country\": countries, \"Date\":dates}\n",
    "\n",
    "weather_df = pd.DataFrame(weather_dict)\n",
    "weather_df.head()"
   ]
  },
  {
   "cell_type": "code",
   "execution_count": 23,
   "metadata": {},
   "outputs": [
    {
     "data": {
      "text/html": [
       "<div>\n",
       "<style scoped>\n",
       "    .dataframe tbody tr th:only-of-type {\n",
       "        vertical-align: middle;\n",
       "    }\n",
       "\n",
       "    .dataframe tbody tr th {\n",
       "        vertical-align: top;\n",
       "    }\n",
       "\n",
       "    .dataframe thead th {\n",
       "        text-align: right;\n",
       "    }\n",
       "</style>\n",
       "<table border=\"1\" class=\"dataframe\">\n",
       "  <thead>\n",
       "    <tr style=\"text-align: right;\">\n",
       "      <th></th>\n",
       "      <th>City</th>\n",
       "      <th>Lat</th>\n",
       "      <th>Long</th>\n",
       "      <th>Max Temp</th>\n",
       "      <th>Humidity</th>\n",
       "      <th>Cloudiness</th>\n",
       "      <th>Wind Speed</th>\n",
       "      <th>Country</th>\n",
       "      <th>Date</th>\n",
       "    </tr>\n",
       "  </thead>\n",
       "  <tbody>\n",
       "    <tr>\n",
       "      <th>0</th>\n",
       "      <td>lubumbashi</td>\n",
       "      <td>-11.306315</td>\n",
       "      <td>27.425436</td>\n",
       "      <td>83.534</td>\n",
       "      <td>22.0</td>\n",
       "      <td>71.0</td>\n",
       "      <td>1.18</td>\n",
       "      <td>CD</td>\n",
       "      <td>1.598280e+09</td>\n",
       "    </tr>\n",
       "    <tr>\n",
       "      <th>1</th>\n",
       "      <td>zhigansk</td>\n",
       "      <td>70.047673</td>\n",
       "      <td>121.530665</td>\n",
       "      <td>41.108</td>\n",
       "      <td>70.0</td>\n",
       "      <td>9.0</td>\n",
       "      <td>1.93</td>\n",
       "      <td>RU</td>\n",
       "      <td>1.598280e+09</td>\n",
       "    </tr>\n",
       "    <tr>\n",
       "      <th>3</th>\n",
       "      <td>busselton</td>\n",
       "      <td>-59.771518</td>\n",
       "      <td>86.563214</td>\n",
       "      <td>51.998</td>\n",
       "      <td>69.0</td>\n",
       "      <td>2.0</td>\n",
       "      <td>3.40</td>\n",
       "      <td>AU</td>\n",
       "      <td>1.598280e+09</td>\n",
       "    </tr>\n",
       "    <tr>\n",
       "      <th>4</th>\n",
       "      <td>provideniya</td>\n",
       "      <td>54.755667</td>\n",
       "      <td>-179.268387</td>\n",
       "      <td>48.074</td>\n",
       "      <td>94.0</td>\n",
       "      <td>100.0</td>\n",
       "      <td>1.37</td>\n",
       "      <td>RU</td>\n",
       "      <td>1.598280e+09</td>\n",
       "    </tr>\n",
       "    <tr>\n",
       "      <th>5</th>\n",
       "      <td>margate</td>\n",
       "      <td>-37.672670</td>\n",
       "      <td>39.658017</td>\n",
       "      <td>71.996</td>\n",
       "      <td>61.0</td>\n",
       "      <td>78.0</td>\n",
       "      <td>1.34</td>\n",
       "      <td>GB</td>\n",
       "      <td>1.598280e+09</td>\n",
       "    </tr>\n",
       "  </tbody>\n",
       "</table>\n",
       "</div>"
      ],
      "text/plain": [
       "          City        Lat        Long  Max Temp  Humidity  Cloudiness  \\\n",
       "0   lubumbashi -11.306315   27.425436    83.534      22.0        71.0   \n",
       "1     zhigansk  70.047673  121.530665    41.108      70.0         9.0   \n",
       "3    busselton -59.771518   86.563214    51.998      69.0         2.0   \n",
       "4  provideniya  54.755667 -179.268387    48.074      94.0       100.0   \n",
       "5      margate -37.672670   39.658017    71.996      61.0        78.0   \n",
       "\n",
       "   Wind Speed Country          Date  \n",
       "0        1.18      CD  1.598280e+09  \n",
       "1        1.93      RU  1.598280e+09  \n",
       "3        3.40      AU  1.598280e+09  \n",
       "4        1.37      RU  1.598280e+09  \n",
       "5        1.34      GB  1.598280e+09  "
      ]
     },
     "execution_count": 23,
     "metadata": {},
     "output_type": "execute_result"
    }
   ],
   "source": [
    "weather_dropna_df = weather_df.dropna(how=\"any\")\n",
    "weather_dropna_df.head()"
   ]
  },
  {
   "cell_type": "code",
   "execution_count": 24,
   "metadata": {},
   "outputs": [
    {
     "data": {
      "text/plain": [
       "Int64Index([], dtype='int64')"
      ]
     },
     "execution_count": 24,
     "metadata": {},
     "output_type": "execute_result"
    }
   ],
   "source": [
    "#  Get the indices of cities that have humidity over 100%.\n",
    "\n",
    "hum_over_100 = weather_dropna_df.loc[weather_dropna_df[\"Humidity\"]>100].index\n",
    "hum_over_100"
   ]
  },
  {
   "cell_type": "code",
   "execution_count": 25,
   "metadata": {},
   "outputs": [
    {
     "data": {
      "text/html": [
       "<div>\n",
       "<style scoped>\n",
       "    .dataframe tbody tr th:only-of-type {\n",
       "        vertical-align: middle;\n",
       "    }\n",
       "\n",
       "    .dataframe tbody tr th {\n",
       "        vertical-align: top;\n",
       "    }\n",
       "\n",
       "    .dataframe thead th {\n",
       "        text-align: right;\n",
       "    }\n",
       "</style>\n",
       "<table border=\"1\" class=\"dataframe\">\n",
       "  <thead>\n",
       "    <tr style=\"text-align: right;\">\n",
       "      <th></th>\n",
       "      <th>City</th>\n",
       "      <th>Lat</th>\n",
       "      <th>Long</th>\n",
       "      <th>Max Temp</th>\n",
       "      <th>Humidity</th>\n",
       "      <th>Cloudiness</th>\n",
       "      <th>Wind Speed</th>\n",
       "      <th>Country</th>\n",
       "      <th>Date</th>\n",
       "    </tr>\n",
       "  </thead>\n",
       "  <tbody>\n",
       "    <tr>\n",
       "      <th>0</th>\n",
       "      <td>lubumbashi</td>\n",
       "      <td>-11.306315</td>\n",
       "      <td>27.425436</td>\n",
       "      <td>83.534</td>\n",
       "      <td>22.0</td>\n",
       "      <td>71.0</td>\n",
       "      <td>1.18</td>\n",
       "      <td>CD</td>\n",
       "      <td>1.598280e+09</td>\n",
       "    </tr>\n",
       "    <tr>\n",
       "      <th>1</th>\n",
       "      <td>zhigansk</td>\n",
       "      <td>70.047673</td>\n",
       "      <td>121.530665</td>\n",
       "      <td>41.108</td>\n",
       "      <td>70.0</td>\n",
       "      <td>9.0</td>\n",
       "      <td>1.93</td>\n",
       "      <td>RU</td>\n",
       "      <td>1.598280e+09</td>\n",
       "    </tr>\n",
       "    <tr>\n",
       "      <th>3</th>\n",
       "      <td>busselton</td>\n",
       "      <td>-59.771518</td>\n",
       "      <td>86.563214</td>\n",
       "      <td>51.998</td>\n",
       "      <td>69.0</td>\n",
       "      <td>2.0</td>\n",
       "      <td>3.40</td>\n",
       "      <td>AU</td>\n",
       "      <td>1.598280e+09</td>\n",
       "    </tr>\n",
       "    <tr>\n",
       "      <th>4</th>\n",
       "      <td>provideniya</td>\n",
       "      <td>54.755667</td>\n",
       "      <td>-179.268387</td>\n",
       "      <td>48.074</td>\n",
       "      <td>94.0</td>\n",
       "      <td>100.0</td>\n",
       "      <td>1.37</td>\n",
       "      <td>RU</td>\n",
       "      <td>1.598280e+09</td>\n",
       "    </tr>\n",
       "    <tr>\n",
       "      <th>5</th>\n",
       "      <td>margate</td>\n",
       "      <td>-37.672670</td>\n",
       "      <td>39.658017</td>\n",
       "      <td>71.996</td>\n",
       "      <td>61.0</td>\n",
       "      <td>78.0</td>\n",
       "      <td>1.34</td>\n",
       "      <td>GB</td>\n",
       "      <td>1.598280e+09</td>\n",
       "    </tr>\n",
       "  </tbody>\n",
       "</table>\n",
       "</div>"
      ],
      "text/plain": [
       "          City        Lat        Long  Max Temp  Humidity  Cloudiness  \\\n",
       "0   lubumbashi -11.306315   27.425436    83.534      22.0        71.0   \n",
       "1     zhigansk  70.047673  121.530665    41.108      70.0         9.0   \n",
       "3    busselton -59.771518   86.563214    51.998      69.0         2.0   \n",
       "4  provideniya  54.755667 -179.268387    48.074      94.0       100.0   \n",
       "5      margate -37.672670   39.658017    71.996      61.0        78.0   \n",
       "\n",
       "   Wind Speed Country          Date  \n",
       "0        1.18      CD  1.598280e+09  \n",
       "1        1.93      RU  1.598280e+09  \n",
       "3        3.40      AU  1.598280e+09  \n",
       "4        1.37      RU  1.598280e+09  \n",
       "5        1.34      GB  1.598280e+09  "
      ]
     },
     "execution_count": 25,
     "metadata": {},
     "output_type": "execute_result"
    }
   ],
   "source": [
    "cleaned_weather_df = weather_dropna_df.drop(axis=0,index=hum_over_100,inplace=False)\n",
    "cleaned_weather_df.head()"
   ]
  },
  {
   "cell_type": "code",
   "execution_count": 26,
   "metadata": {},
   "outputs": [
    {
     "data": {
      "image/png": "[encoded data removed]",
      "text/plain": [
       "<Figure size 432x288 with 1 Axes>"
      ]
     },
     "metadata": {
      "needs_background": "light"
     },
     "output_type": "display_data"
    }
   ],
   "source": [
    "x_values = cleaned_weather_df[\"Lat\"]\n",
    "y_values = cleaned_weather_df[\"Max Temp\"]\n",
    "date = cleaned_weather_df.iloc[0,8]\n",
    "\n",
    "temp_vs_lat = plt.scatter(x_values,y_values)\n",
    "plt.title(f\"Max Temperature vs. City Latitude ({date})\")\n",
    "plt.xlabel(\"Latitude\")\n",
    "plt.ylabel(\"Max Temperature (F)\")\n",
    "\n",
    "plt.savefig(\"Images/temp_vs_lat.png\")"
   ]
  },
  {
   "cell_type": "code",
   "execution_count": 27,
   "metadata": {},
   "outputs": [
    {
     "data": {
      "image/png": "[encoded data removed]",
      "text/plain": [
       "<Figure size 432x288 with 1 Axes>"
      ]
     },
     "metadata": {
      "needs_background": "light"
     },
     "output_type": "display_data"
    }
   ],
   "source": [
    "x_values = cleaned_weather_df[\"Lat\"]\n",
    "y_values = cleaned_weather_df[\"Humidity\"]\n",
    "\n",
    "hum_vs_lat = plt.scatter(x_values,y_values)\n",
    "plt.title(f\"Humidity vs. City Latitude ({date})\")\n",
    "plt.xlabel(\"Latitude\")\n",
    "plt.ylabel(\"Humidity (%)\")\n",
    "\n",
    "plt.savefig(\"Images/hum_vs_lat.png\")"
   ]
  },
  {
   "cell_type": "code",
   "execution_count": 28,
   "metadata": {},
   "outputs": [
    {
     "data": {
      "image/png": "[encoded data removed]",
      "text/plain": [
       "<Figure size 432x288 with 1 Axes>"
      ]
     },
     "metadata": {
      "needs_background": "light"
     },
     "output_type": "display_data"
    }
   ],
   "source": [
    "x_values = cleaned_weather_df[\"Lat\"]\n",
    "y_values = cleaned_weather_df[\"Cloudiness\"]\n",
    "\n",
    "cloud_vs_lat = plt.scatter(x_values,y_values)\n",
    "plt.title(f\"Cloudiness vs. City Latitude ({date})\")\n",
    "plt.xlabel(\"Latitude\")\n",
    "plt.ylabel(\"Cloudiness (%)\")\n",
    "\n",
    "plt.savefig(\"Images/cloud_vs_lat.png\")"
   ]
  },
  {
   "cell_type": "code",
   "execution_count": 29,
   "metadata": {},
   "outputs": [
    {
     "data": {
      "image/png": "[encoded data removed]",
      "text/plain": [
       "<Figure size 432x288 with 1 Axes>"
      ]
     },
     "metadata": {
      "needs_background": "light"
     },
     "output_type": "display_data"
    }
   ],
   "source": [
    "x_values = cleaned_weather_df[\"Lat\"]\n",
    "y_values = cleaned_weather_df[\"Wind Speed\"]\n",
    "\n",
    "wind_vs_lat = plt.scatter(x_values,y_values)\n",
    "plt.title(f\"Wind Speed vs. City Latitude ({date})\")\n",
    "plt.xlabel(\"Latitude\")\n",
    "plt.ylabel(\"Wind Speed (mph)\")\n",
    "\n",
    "plt.savefig(\"Images/wind_vs_lat.png\")"
   ]
  },
  {
   "cell_type": "code",
   "execution_count": 30,
   "metadata": {},
   "outputs": [],
   "source": [
    "northern_hemi_df = cleaned_weather_df.loc[cleaned_weather_df[\"Lat\"]>0]\n",
    "southern_hemi_df = cleaned_weather_df.loc[cleaned_weather_df[\"Lat\"]<0]"
   ]
  },
  {
   "cell_type": "code",
   "execution_count": 31,
   "metadata": {},
   "outputs": [
    {
     "name": "stdout",
     "output_type": "stream",
     "text": [
      "r value: 0.5492354210209757\n"
     ]
    },
    {
     "data": {
      "image/png": "[encoded data removed]",
      "text/plain": [
       "<Figure size 432x288 with 1 Axes>"
      ]
     },
     "metadata": {
      "needs_background": "light"
     },
     "output_type": "display_data"
    }
   ],
   "source": [
    "x_values = northern_hemi_df[\"Lat\"]\n",
    "y_values = northern_hemi_df[\"Max Temp\"]\n",
    "\n",
    "temp_vs_lat = plt.scatter(x_values,y_values)\n",
    "plt.xlabel(\"Latitude\")\n",
    "plt.ylabel(\"Max Temperature (F)\")\n",
    "\n",
    "(slope, intercept, r, p, sem) = linregress(x_values, y_values)\n",
    "fit = slope * x_values + intercept\n",
    "line_eq = f\"y={round(slope,2)}x+{round(intercept,2)}\"\n",
    "plt.plot(x_values,fit,\"-r\")\n",
    "plt.annotate(line_eq, (30,40),color=\"red\")\n",
    "print(f\"r value: {r**2}\")\n",
    "\n",
    "plt.savefig(\"Images/n_temp_vs_lat.png\")"
   ]
  },
  {
   "cell_type": "code",
   "execution_count": 32,
   "metadata": {},
   "outputs": [
    {
     "name": "stdout",
     "output_type": "stream",
     "text": [
      "r value: 0.28324979153610036\n"
     ]
    },
    {
     "data": {
      "image/png": "[encoded data removed]",
      "text/plain": [
       "<Figure size 432x288 with 1 Axes>"
      ]
     },
     "metadata": {
      "needs_background": "light"
     },
     "output_type": "display_data"
    }
   ],
   "source": [
    "x_values = southern_hemi_df[\"Lat\"]\n",
    "y_values = southern_hemi_df[\"Max Temp\"]\n",
    "\n",
    "temp_vs_lat = plt.scatter(x_values,y_values)\n",
    "plt.xlabel(\"Latitude\")\n",
    "plt.ylabel(\"Max Temperature (F)\")\n",
    "\n",
    "(slope, intercept, r, p, sem) = linregress(x_values, y_values)\n",
    "fit = slope * x_values + intercept\n",
    "line_eq = f\"y={round(slope,2)}x+{round(intercept,2)}\"\n",
    "plt.plot(x_values,fit,\"-r\")\n",
    "plt.annotate(line_eq, (-60,40),color=\"red\")\n",
    "print(f\"r value: {r**2}\")\n",
    "\n",
    "plt.savefig(\"Images/s_temp_vs_lat.png\")"
   ]
  },
  {
   "cell_type": "code",
   "execution_count": 33,
   "metadata": {},
   "outputs": [
    {
     "name": "stdout",
     "output_type": "stream",
     "text": [
      "r value: 0.15025699877087867\n"
     ]
    },
    {
     "data": {
      "image/png": "[encoded data removed]",
      "text/plain": [
       "<Figure size 432x288 with 1 Axes>"
      ]
     },
     "metadata": {
      "needs_background": "light"
     },
     "output_type": "display_data"
    }
   ],
   "source": [
    "x_values = northern_hemi_df[\"Lat\"]\n",
    "y_values = northern_hemi_df[\"Humidity\"]\n",
    "\n",
    "hum_vs_lat = plt.scatter(x_values,y_values)\n",
    "plt.xlabel(\"Latitude\")\n",
    "plt.ylabel(\"Humidity (%)\")\n",
    "\n",
    "(slope, intercept, r, p, sem) = linregress(x_values, y_values)\n",
    "fit = slope * x_values + intercept\n",
    "line_eq = f\"y={round(slope,2)}x+{round(intercept,2)}\"\n",
    "plt.plot(x_values,fit,\"-r\")\n",
    "plt.annotate(line_eq, (30,40),color=\"red\")\n",
    "print(f\"r value: {r**2}\")\n",
    "\n",
    "plt.savefig(\"Images/n_hum_vs_lat.png\")"
   ]
  },
  {
   "cell_type": "code",
   "execution_count": 34,
   "metadata": {},
   "outputs": [
    {
     "name": "stdout",
     "output_type": "stream",
     "text": [
      "r value: 0.05169179380564695\n"
     ]
    },
    {
     "data": {
      "image/png": "[encoded data removed]",
      "text/plain": [
       "<Figure size 432x288 with 1 Axes>"
      ]
     },
     "metadata": {
      "needs_background": "light"
     },
     "output_type": "display_data"
    }
   ],
   "source": [
    "x_values = southern_hemi_df[\"Lat\"]\n",
    "y_values = southern_hemi_df[\"Humidity\"]\n",
    "\n",
    "hum_vs_lat = plt.scatter(x_values,y_values)\n",
    "plt.xlabel(\"Latitude\")\n",
    "plt.ylabel(\"Humidity (%)\")\n",
    "\n",
    "(slope, intercept, r, p, sem) = linregress(x_values, y_values)\n",
    "fit = slope * x_values + intercept\n",
    "line_eq = f\"y={round(slope,2)}x+{round(intercept,2)}\"\n",
    "plt.plot(x_values,fit,\"-r\")\n",
    "plt.annotate(line_eq, (-60,75),color=\"red\")\n",
    "print(f\"r value: {r**2}\")\n",
    "\n",
    "plt.savefig(\"Images/s_hum_vs_lat.png\")"
   ]
  },
  {
   "cell_type": "code",
   "execution_count": 35,
   "metadata": {},
   "outputs": [
    {
     "name": "stdout",
     "output_type": "stream",
     "text": [
      "r value: 0.01068382321901751\n"
     ]
    },
    {
     "data": {
      "image/png": "[encoded data removed]",
      "text/plain": [
       "<Figure size 432x288 with 1 Axes>"
      ]
     },
     "metadata": {
      "needs_background": "light"
     },
     "output_type": "display_data"
    }
   ],
   "source": [
    "x_values = northern_hemi_df[\"Lat\"]\n",
    "y_values = northern_hemi_df[\"Cloudiness\"]\n",
    "\n",
    "cloud_vs_lat = plt.scatter(x_values,y_values)\n",
    "plt.xlabel(\"Latitude\")\n",
    "plt.ylabel(\"Cloudiness (%)\")\n",
    "\n",
    "(slope, intercept, r, p, sem) = linregress(x_values, y_values)\n",
    "fit = slope * x_values + intercept\n",
    "line_eq = f\"y={round(slope,2)}x+{round(intercept,2)}\"\n",
    "plt.plot(x_values,fit,\"-r\")\n",
    "plt.annotate(line_eq, (30,10),color=\"red\")\n",
    "print(f\"r value: {r**2}\")\n",
    "\n",
    "plt.savefig(\"Images/n_cloud_vs_lat.png\")"
   ]
  },
  {
   "cell_type": "code",
   "execution_count": 36,
   "metadata": {},
   "outputs": [
    {
     "name": "stdout",
     "output_type": "stream",
     "text": [
      "r value: 0.09588207816524968\n"
     ]
    },
    {
     "data": {
      "image/png": "[encoded data removed]",
      "text/plain": [
       "<Figure size 432x288 with 1 Axes>"
      ]
     },
     "metadata": {
      "needs_background": "light"
     },
     "output_type": "display_data"
    }
   ],
   "source": [
    "x_values = southern_hemi_df[\"Lat\"]\n",
    "y_values = southern_hemi_df[\"Cloudiness\"]\n",
    "\n",
    "cloud_vs_lat = plt.scatter(x_values,y_values)\n",
    "plt.xlabel(\"Latitude\")\n",
    "plt.ylabel(\"Cloudiness (%)\")\n",
    "\n",
    "(slope, intercept, r, p, sem) = linregress(x_values, y_values)\n",
    "fit = slope * x_values + intercept\n",
    "line_eq = f\"y={round(slope,2)}x+{round(intercept,2)}\"\n",
    "plt.plot(x_values,fit,\"-r\")\n",
    "plt.annotate(line_eq, (-60,0),color=\"red\")\n",
    "print(f\"r value: {r**2}\")\n",
    "\n",
    "plt.savefig(\"Images/s_cloud_vs_lat.png\")"
   ]
  },
  {
   "cell_type": "code",
   "execution_count": 37,
   "metadata": {},
   "outputs": [
    {
     "name": "stdout",
     "output_type": "stream",
     "text": [
      "r value: 0.06210470634111538\n"
     ]
    },
    {
     "data": {
      "image/png": "[encoded data removed]",
      "text/plain": [
       "<Figure size 432x288 with 1 Axes>"
      ]
     },
     "metadata": {
      "needs_background": "light"
     },
     "output_type": "display_data"
    }
   ],
   "source": [
    "x_values = northern_hemi_df[\"Lat\"]\n",
    "y_values = northern_hemi_df[\"Wind Speed\"]\n",
    "\n",
    "wind_vs_lat = plt.scatter(x_values,y_values)\n",
    "plt.xlabel(\"Latitude\")\n",
    "plt.ylabel(\"Wind Speed (mph)\")\n",
    "\n",
    "(slope, intercept, r, p, sem) = linregress(x_values, y_values)\n",
    "fit = slope * x_values + intercept\n",
    "line_eq = f\"y={round(slope,2)}x+{round(intercept,2)}\"\n",
    "plt.plot(x_values,fit,\"-r\")\n",
    "plt.annotate(line_eq, (30,2),color=\"red\")\n",
    "print(f\"r value: {r**2}\")\n",
    "\n",
    "plt.savefig(\"Images/n_wind_vs_lat.png\")"
   ]
  },
  {
   "cell_type": "code",
   "execution_count": 38,
   "metadata": {},
   "outputs": [
    {
     "name": "stdout",
     "output_type": "stream",
     "text": [
      "r value: 0.013979579666822473\n"
     ]
    },
    {
     "data": {
      "image/png": "[encoded data removed]",
      "text/plain": [
       "<Figure size 432x288 with 1 Axes>"
      ]
     },
     "metadata": {
      "needs_background": "light"
     },
     "output_type": "display_data"
    }
   ],
   "source": [
    "x_values = southern_hemi_df[\"Lat\"]\n",
    "y_values = southern_hemi_df[\"Wind Speed\"]\n",
    "\n",
    "wind_vs_lat = plt.scatter(x_values,y_values)\n",
    "plt.xlabel(\"Latitude\")\n",
    "plt.ylabel(\"Wind Speed (mph)\")\n",
    "\n",
    "(slope, intercept, r, p, sem) = linregress(x_values, y_values)\n",
    "fit = slope * x_values + intercept\n",
    "line_eq = f\"y={round(slope,2)}x+{round(intercept,2)}\"\n",
    "plt.plot(x_values,fit,\"-r\")\n",
    "plt.annotate(line_eq, (-60,2),color=\"red\")\n",
    "print(f\"r value: {r**2}\")\n",
    "\n",
    "plt.savefig(\"Images/s_wind_vs_lat.png\")"
   ]
  }
 ],
 "metadata": {
  "kernelspec": {
   "display_name": "Python 3",
   "language": "python",
   "name": "python3"
  },
  "language_info": {
   "codemirror_mode": {
    "name": "ipython",
    "version": 3
   },
   "file_extension": ".py",
   "mimetype": "text/x-python",
   "name": "python",
   "nbconvert_exporter": "python",
   "pygments_lexer": "ipython3",
   "version": "3.7.6"
  }
 },
 "nbformat": 4,
 "nbformat_minor": 4
}
